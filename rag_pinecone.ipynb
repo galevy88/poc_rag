{
 "cells": [
  {
   "cell_type": "code",
   "execution_count": 23,
   "id": "cf6adac3-5db1-419f-9b9d-1ce112a41da0",
   "metadata": {
    "ExecuteTime": {
     "end_time": "2024-01-12T16:28:41.645840Z",
     "start_time": "2024-01-12T16:28:41.634730Z"
    }
   },
   "outputs": [
    {
     "data": {
      "text/plain": "True"
     },
     "execution_count": 23,
     "metadata": {},
     "output_type": "execute_result"
    }
   ],
   "source": [
    "import os\n",
    "import openai\n",
    "import pinecone\n",
    "import pandas as pd\n",
    "from langchain.chat_models import ChatOpenAI\n",
    "from dotenv import load_dotenv\n",
    "load_dotenv()\n"
   ]
  },
  {
   "cell_type": "code",
   "execution_count": 24,
   "id": "a10c220d-edfc-4adf-b077-bb3ceaef166b",
   "metadata": {
    "ExecuteTime": {
     "end_time": "2024-01-12T16:28:41.681693Z",
     "start_time": "2024-01-12T16:28:41.645924Z"
    }
   },
   "outputs": [
    {
     "name": "stdout",
     "output_type": "stream",
     "text": [
      "OPENAI_API_KEY has been set!\n"
     ]
    }
   ],
   "source": [
    "os.environ[\"OPENAI_API_KEY\"] = os.getenv('OPENAI_API_KEY')\n",
    "print(\"OPENAI_API_KEY has been set!\")"
   ]
  },
  {
   "cell_type": "code",
   "execution_count": 25,
   "id": "aa8800c7-dfd3-4d5d-96e7-63010aafb2e6",
   "metadata": {
    "ExecuteTime": {
     "end_time": "2024-01-12T16:28:41.682872Z",
     "start_time": "2024-01-12T16:28:41.651606Z"
    }
   },
   "outputs": [],
   "source": [
    "llm = ChatOpenAI(temperature=0.7, model_name=\"gpt-4\")"
   ]
  },
  {
   "cell_type": "code",
   "execution_count": 26,
   "id": "3871daec-fb89-4e57-b151-1257e6dd1444",
   "metadata": {
    "ExecuteTime": {
     "end_time": "2024-01-12T16:28:41.683503Z",
     "start_time": "2024-01-12T16:28:41.657925Z"
    }
   },
   "outputs": [],
   "source": [
    "query = \"Which instances can I use with Managed Spot Training in SageMaker?\"\n",
    "\n",
    "context = \"\"\"\n",
    "Managed Spot Training can be used with all instances supported in Amazon SageMaker. Managed Spot Training is supported in all AWS Regions where Amazon SageMaker is currently available.\n",
    "\"\"\"\n",
    "prompt_template = \"\"\"\n",
    "Answer the following QUESTION based on the CONTEXT given. If you do not know the answer and the CONTEXT doesn't contain the answer truthfully say \"I don't know\".\n",
    "\n",
    "CONTEXT:\n",
    "{context}\n",
    "\n",
    "QUESTION:\n",
    "{question}\n",
    "\n",
    "ANSWER:\n",
    "\"\"\"\n",
    "\n",
    "text_input = prompt_template.format(context=context, question=query)"
   ]
  },
  {
   "cell_type": "code",
   "execution_count": 27,
   "id": "d237e95c-7934-4e96-9391-5b6572d23711",
   "metadata": {
    "ExecuteTime": {
     "end_time": "2024-01-12T16:28:42.928473Z",
     "start_time": "2024-01-12T16:28:41.685006Z"
    }
   },
   "outputs": [
    {
     "name": "stdout",
     "output_type": "stream",
     "text": [
      "You can use all instances supported in Amazon SageMaker with Managed Spot Training.\n"
     ]
    }
   ],
   "source": [
    "result = llm.predict(text_input)\n",
    "print(result)"
   ]
  },
  {
   "cell_type": "code",
   "execution_count": 28,
   "id": "25bf3487-d200-4b76-a461-91c0bae9ae18",
   "metadata": {
    "ExecuteTime": {
     "end_time": "2024-01-12T16:28:43.660960Z",
     "start_time": "2024-01-12T16:28:42.925430Z"
    }
   },
   "outputs": [
    {
     "name": "stdout",
     "output_type": "stream",
     "text": [
      "I don't know.\n"
     ]
    }
   ],
   "source": [
    "unanswerable_question = \"What color is the sea?\"\n",
    "\n",
    "text_input = prompt_template.replace(\"{context}\", context).replace(\"{question}\", unanswerable_question)\n",
    "\n",
    "out = llm.predict(text_input)\n",
    "\n",
    "print(out)"
   ]
  },
  {
   "cell_type": "code",
   "execution_count": 29,
   "id": "8ffead5b-67b2-43d3-bdfc-c90ed53e00a4",
   "metadata": {
    "ExecuteTime": {
     "end_time": "2024-01-12T16:28:43.668390Z",
     "start_time": "2024-01-12T16:28:43.656913Z"
    }
   },
   "outputs": [
    {
     "data": {
      "text/plain": "                                            Question  \\\n0                          What is Amazon SageMaker?   \n1  In which Regions is Amazon SageMaker available...   \n2  What is the service availability of Amazon Sag...   \n3          How does Amazon SageMaker secure my code?   \n4  What security measures does Amazon SageMaker h...   \n\n                                              Answer  \n0  Amazon SageMaker is a fully managed service to...  \n1  For a list of the supported Amazon SageMaker A...  \n2  Amazon SageMaker is designed for high availabi...  \n3  Amazon SageMaker stores code in ML storage vol...  \n4  Amazon SageMaker ensures that ML model artifac...  ",
      "text/html": "<div>\n<style scoped>\n    .dataframe tbody tr th:only-of-type {\n        vertical-align: middle;\n    }\n\n    .dataframe tbody tr th {\n        vertical-align: top;\n    }\n\n    .dataframe thead th {\n        text-align: right;\n    }\n</style>\n<table border=\"1\" class=\"dataframe\">\n  <thead>\n    <tr style=\"text-align: right;\">\n      <th></th>\n      <th>Question</th>\n      <th>Answer</th>\n    </tr>\n  </thead>\n  <tbody>\n    <tr>\n      <th>0</th>\n      <td>What is Amazon SageMaker?</td>\n      <td>Amazon SageMaker is a fully managed service to...</td>\n    </tr>\n    <tr>\n      <th>1</th>\n      <td>In which Regions is Amazon SageMaker available...</td>\n      <td>For a list of the supported Amazon SageMaker A...</td>\n    </tr>\n    <tr>\n      <th>2</th>\n      <td>What is the service availability of Amazon Sag...</td>\n      <td>Amazon SageMaker is designed for high availabi...</td>\n    </tr>\n    <tr>\n      <th>3</th>\n      <td>How does Amazon SageMaker secure my code?</td>\n      <td>Amazon SageMaker stores code in ML storage vol...</td>\n    </tr>\n    <tr>\n      <th>4</th>\n      <td>What security measures does Amazon SageMaker h...</td>\n      <td>Amazon SageMaker ensures that ML model artifac...</td>\n    </tr>\n  </tbody>\n</table>\n</div>"
     },
     "execution_count": 29,
     "metadata": {},
     "output_type": "execute_result"
    }
   ],
   "source": [
    "df_knowledge = pd.read_csv(\"data_pinecone.csv\", header=None, names=[\"Question\", \"Answer\"])\n",
    "df_knowledge.head()"
   ]
  },
  {
   "cell_type": "code",
   "execution_count": 30,
   "id": "ba4cce4e-bf58-42cb-8500-aedacb8ecca4",
   "metadata": {
    "ExecuteTime": {
     "end_time": "2024-01-12T16:28:43.685978Z",
     "start_time": "2024-01-12T16:28:43.670184Z"
    }
   },
   "outputs": [
    {
     "data": {
      "text/plain": "                                              Answer\n0  Amazon SageMaker is a fully managed service to...\n1  For a list of the supported Amazon SageMaker A...\n2  Amazon SageMaker is designed for high availabi...\n3  Amazon SageMaker stores code in ML storage vol...\n4  Amazon SageMaker ensures that ML model artifac...",
      "text/html": "<div>\n<style scoped>\n    .dataframe tbody tr th:only-of-type {\n        vertical-align: middle;\n    }\n\n    .dataframe tbody tr th {\n        vertical-align: top;\n    }\n\n    .dataframe thead th {\n        text-align: right;\n    }\n</style>\n<table border=\"1\" class=\"dataframe\">\n  <thead>\n    <tr style=\"text-align: right;\">\n      <th></th>\n      <th>Answer</th>\n    </tr>\n  </thead>\n  <tbody>\n    <tr>\n      <th>0</th>\n      <td>Amazon SageMaker is a fully managed service to...</td>\n    </tr>\n    <tr>\n      <th>1</th>\n      <td>For a list of the supported Amazon SageMaker A...</td>\n    </tr>\n    <tr>\n      <th>2</th>\n      <td>Amazon SageMaker is designed for high availabi...</td>\n    </tr>\n    <tr>\n      <th>3</th>\n      <td>Amazon SageMaker stores code in ML storage vol...</td>\n    </tr>\n    <tr>\n      <th>4</th>\n      <td>Amazon SageMaker ensures that ML model artifac...</td>\n    </tr>\n  </tbody>\n</table>\n</div>"
     },
     "execution_count": 30,
     "metadata": {},
     "output_type": "execute_result"
    }
   ],
   "source": [
    "df_knowledge.drop([\"Question\"], axis=1, inplace=True)\n",
    "df_knowledge.head()"
   ]
  },
  {
   "cell_type": "code",
   "execution_count": 31,
   "id": "2bcfcc0a-8a28-4a5b-8a6a-c065ace36a46",
   "metadata": {
    "ExecuteTime": {
     "end_time": "2024-01-12T16:28:44.262787Z",
     "start_time": "2024-01-12T16:28:43.674796Z"
    }
   },
   "outputs": [],
   "source": [
    "api_key = os.getenv('PINECONE_API_KEY')\n",
    "env = os.getenv('PINECONE_ENV')\n",
    "\n",
    "pinecone.init(\n",
    "    api_key=api_key,\n",
    "    environment=env\n",
    ")"
   ]
  },
  {
   "cell_type": "code",
   "execution_count": 32,
   "id": "4fe62da7-5983-4181-8430-cd7bdeb6dd9a",
   "metadata": {
    "ExecuteTime": {
     "end_time": "2024-01-12T16:28:44.759225Z",
     "start_time": "2024-01-12T16:28:44.262957Z"
    }
   },
   "outputs": [
    {
     "data": {
      "text/plain": "['freetruth']"
     },
     "execution_count": 32,
     "metadata": {},
     "output_type": "execute_result"
    }
   ],
   "source": [
    "pinecone.list_indexes()"
   ]
  },
  {
   "cell_type": "code",
   "execution_count": 33,
   "id": "f550c7a2-9450-46ce-9607-f9ae23b7a34e",
   "metadata": {
    "ExecuteTime": {
     "end_time": "2024-01-12T16:28:45.084954Z",
     "start_time": "2024-01-12T16:28:44.756761Z"
    }
   },
   "outputs": [
    {
     "name": "stdout",
     "output_type": "stream",
     "text": [
      "1\n"
     ]
    }
   ],
   "source": [
    "openai.api_key = os.getenv('OPENAI_API_KEY')\n",
    "\n",
    "def get_embeddings(texts, model=\"text-embedding-ada-002\"):\n",
    "    # Get embeddings for each text in the list\n",
    "    responses = openai.Embedding.create(input=texts, model=model)\n",
    "\n",
    "    # Extract embedding vectors from the response\n",
    "    embeddings = [response['embedding'] for response in responses['data']]\n",
    "\n",
    "    return embeddings\n",
    "\n",
    "text = \"Your text here\"\n",
    "embedding_vector = get_embeddings(text)\n",
    "print(len(embedding_vector))\n"
   ]
  },
  {
   "cell_type": "code",
   "execution_count": 34,
   "id": "fcb4c247-75e3-4cdd-9e03-aae2b11778d2",
   "metadata": {
    "ExecuteTime": {
     "end_time": "2024-01-12T16:30:08.955878Z",
     "start_time": "2024-01-12T16:28:45.084466Z"
    }
   },
   "outputs": [
    {
     "name": "stderr",
     "output_type": "stream",
     "text": [
      "100%|██████████| 154/154 [01:23<00:00,  1.84it/s]\n"
     ]
    }
   ],
   "source": [
    "from tqdm.auto import tqdm\n",
    "\n",
    "index_name = \"freetruth\"\n",
    "\n",
    "batch_size = 1\n",
    "vector_limit = 1000\n",
    "\n",
    "answers = df_knowledge[:vector_limit]\n",
    "index = pinecone.Index(index_name)\n",
    "\n",
    "for i in tqdm(range(0, len(answers), batch_size)):\n",
    "\n",
    "    i_end = min(i+batch_size, len(answers))\n",
    "\n",
    "    ids = [str(x) for x in range(i, i_end)]\n",
    "\n",
    "    metadatas = [{'text': text} for text in answers[\"Answer\"][i:i_end]]\n",
    "    texts = answers[\"Answer\"][i:i_end].tolist()\n",
    "    embeddings = get_embeddings(texts)\n",
    "    \n",
    "    records = zip(ids, embeddings, metadatas)\n",
    "    \n",
    "    index.upsert(vectors=records)"
   ]
  },
  {
   "cell_type": "code",
   "execution_count": 35,
   "id": "240ef9eb-07b8-4988-9ee3-e593eacca347",
   "metadata": {
    "ExecuteTime": {
     "end_time": "2024-01-12T16:30:09.149793Z",
     "start_time": "2024-01-12T16:30:08.957699Z"
    }
   },
   "outputs": [
    {
     "data": {
      "text/plain": "{'dimension': 1536,\n 'index_fullness': 0.00154,\n 'namespaces': {'': {'vector_count': 154}},\n 'total_vector_count': 154}"
     },
     "execution_count": 35,
     "metadata": {},
     "output_type": "execute_result"
    }
   ],
   "source": [
    "index.describe_index_stats()"
   ]
  },
  {
   "cell_type": "code",
   "execution_count": 36,
   "id": "c8b29416-7ccd-439a-9331-472f9922557c",
   "metadata": {
    "ExecuteTime": {
     "end_time": "2024-01-12T16:30:11.791206Z",
     "start_time": "2024-01-12T16:30:09.153829Z"
    }
   },
   "outputs": [
    {
     "data": {
      "text/plain": "{'matches': [{'id': '90',\n              'metadata': {'text': 'Managed Spot Training can be used with all '\n                                   'instances supported in Amazon '\n                                   'SageMaker.\\r\\n'},\n              'score': 0.930336177,\n              'values': []},\n             {'id': '87',\n              'metadata': {'text': 'Managed Spot Training uses Amazon EC2 Spot '\n                                   'instances for training, and these '\n                                   'instances can be pre-empted when AWS needs '\n                                   'capacity. As a result, Managed Spot '\n                                   'Training jobs can run in small increments '\n                                   'as and when capacity becomes available. '\n                                   'The training jobs need not be restarted '\n                                   'from scratch when there is an '\n                                   'interruption, as Amazon SageMaker can '\n                                   'resume the training jobs using the latest '\n                                   'model checkpoint. The built-in frameworks '\n                                   'and the built-in computer vision '\n                                   'algorithms with SageMaker enable periodic '\n                                   'checkpoints, and you can enable '\n                                   'checkpoints with custom models.'},\n              'score': 0.891631305,\n              'values': []},\n             {'id': '85',\n              'metadata': {'text': 'You enable the Managed Spot Training '\n                                   'option when submitting your training jobs '\n                                   'and you also specify how long you want to '\n                                   'wait for Spot capacity. Amazon SageMaker '\n                                   'will then use Amazon EC2 Spot instances to '\n                                   'run your job and manages the Spot '\n                                   'capacity. You have full visibility into '\n                                   'the status of your training jobs, both '\n                                   'while they are running and while they are '\n                                   'waiting for capacity.'},\n              'score': 0.885332286,\n              'values': []},\n             {'id': '84',\n              'metadata': {'text': 'Managed Spot Training with Amazon '\n                                   'SageMaker lets you train your ML models '\n                                   'using Amazon EC2 Spot instances, while '\n                                   'reducing the cost of training your models '\n                                   'by up to 90%.'},\n              'score': 0.883428752,\n              'values': []},\n             {'id': '91',\n              'metadata': {'text': 'Managed Spot Training is supported in all '\n                                   'AWS Regions where Amazon SageMaker is '\n                                   'currently available.\\r\\n'},\n              'score': 0.861335874,\n              'values': []}],\n 'namespace': ''}"
     },
     "execution_count": 36,
     "metadata": {},
     "output_type": "execute_result"
    }
   ],
   "source": [
    "question = 'Which instances can I use with Managed Spot Training in SageMaker?'\n",
    "\n",
    "query_vec = get_embeddings(question)[0]\n",
    "\n",
    "res = index.query(query_vec, top_k=5, include_metadata=True)\n",
    "\n",
    "res"
   ]
  },
  {
   "cell_type": "code",
   "execution_count": 37,
   "id": "10446474-209c-494a-9566-6dff57591b6a",
   "metadata": {
    "ExecuteTime": {
     "end_time": "2024-01-12T16:30:11.793622Z",
     "start_time": "2024-01-12T16:30:11.791678Z"
    }
   },
   "outputs": [],
   "source": [
    "contexts = [match.metadata['text'] for match in res.matches]"
   ]
  },
  {
   "cell_type": "code",
   "execution_count": 38,
   "id": "9fa415c6-4199-4b04-a429-24b551c4f014",
   "metadata": {
    "ExecuteTime": {
     "end_time": "2024-01-12T16:30:11.797006Z",
     "start_time": "2024-01-12T16:30:11.795065Z"
    }
   },
   "outputs": [],
   "source": [
    "from typing import List\n",
    "\n",
    "max_section_len = 1000\n",
    "separator = \"\\n\"\n",
    "\n",
    "def construct_context(contexts: List[str]) -> str:\n",
    "    chosen_sections = []\n",
    "    chosen_sections_len = 0\n",
    "\n",
    "    for text in contexts:\n",
    "        text = text.strip()\n",
    "        # Add contexts until we run out of space.\n",
    "        chosen_sections_len += len(text) + 2\n",
    "        if chosen_sections_len > max_section_len:\n",
    "            break\n",
    "        chosen_sections.append(text)\n",
    "    concatenated_doc = separator.join(chosen_sections)\n",
    "    print(\n",
    "        f\"With maximum sequence length {max_section_len}, selected top {len(chosen_sections)} document sections: \\n{concatenated_doc}\"\n",
    "    )\n",
    "    return concatenated_doc"
   ]
  },
  {
   "cell_type": "code",
   "execution_count": 39,
   "id": "fb0ac24f-0692-44f4-9ea2-a8cc566432b4",
   "metadata": {
    "ExecuteTime": {
     "end_time": "2024-01-12T16:30:11.799258Z",
     "start_time": "2024-01-12T16:30:11.797401Z"
    }
   },
   "outputs": [
    {
     "name": "stdout",
     "output_type": "stream",
     "text": [
      "With maximum sequence length 1000, selected top 2 document sections: \n",
      "Managed Spot Training can be used with all instances supported in Amazon SageMaker.\n",
      "Managed Spot Training uses Amazon EC2 Spot instances for training, and these instances can be pre-empted when AWS needs capacity. As a result, Managed Spot Training jobs can run in small increments as and when capacity becomes available. The training jobs need not be restarted from scratch when there is an interruption, as Amazon SageMaker can resume the training jobs using the latest model checkpoint. The built-in frameworks and the built-in computer vision algorithms with SageMaker enable periodic checkpoints, and you can enable checkpoints with custom models.\n"
     ]
    }
   ],
   "source": [
    "context_str = construct_context(contexts=contexts)"
   ]
  },
  {
   "cell_type": "code",
   "execution_count": 41,
   "id": "fe9e5ac7-7c7a-4824-883f-2ea4948d30e5",
   "metadata": {
    "ExecuteTime": {
     "end_time": "2024-01-12T16:30:27.006117Z",
     "start_time": "2024-01-12T16:30:25.867394Z"
    }
   },
   "outputs": [
    {
     "name": "stdout",
     "output_type": "stream",
     "text": [
      "You can use all instances that are supported in Amazon SageMaker with Managed Spot Training.\n"
     ]
    }
   ],
   "source": [
    "text_input = prompt_template.replace(\"{context}\", context_str).replace(\"{question}\", question)\n",
    "\n",
    "out = llm.predict(text_input)\n",
    "print(out)\n"
   ]
  },
  {
   "cell_type": "code",
   "execution_count": null,
   "outputs": [],
   "source": [],
   "metadata": {
    "collapsed": false
   },
   "id": "752d861c076e867"
  }
 ],
 "metadata": {
  "kernelspec": {
   "display_name": "Python 3 (ipykernel)",
   "language": "python",
   "name": "python3"
  },
  "language_info": {
   "codemirror_mode": {
    "name": "ipython",
    "version": 3
   },
   "file_extension": ".py",
   "mimetype": "text/x-python",
   "name": "python",
   "nbconvert_exporter": "python",
   "pygments_lexer": "ipython3",
   "version": "3.10.13"
  }
 },
 "nbformat": 4,
 "nbformat_minor": 5
}
