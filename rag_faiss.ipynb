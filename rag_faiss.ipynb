{
 "cells": [
  {
   "cell_type": "code",
   "execution_count": 106,
   "outputs": [
    {
     "data": {
      "text/plain": "True"
     },
     "execution_count": 106,
     "metadata": {},
     "output_type": "execute_result"
    }
   ],
   "source": [
    "import os\n",
    "from langchain.chat_models import ChatOpenAI\n",
    "from langchain.document_loaders import TextLoader\n",
    "from langchain.text_splitter import CharacterTextSplitter\n",
    "from langchain.embeddings import OpenAIEmbeddings\n",
    "from langchain.vectorstores import FAISS\n",
    "from langchain.chains import ConversationalRetrievalChain\n",
    "from langchain.memory import ConversationBufferMemory\n",
    "from dotenv import load_dotenv\n",
    "load_dotenv()"
   ],
   "metadata": {
    "collapsed": false,
    "ExecuteTime": {
     "end_time": "2024-01-12T16:34:29.659992Z",
     "start_time": "2024-01-12T16:34:29.653769Z"
    }
   },
   "id": "b164224b7810a791"
  },
  {
   "cell_type": "code",
   "execution_count": 107,
   "outputs": [
    {
     "name": "stdout",
     "output_type": "stream",
     "text": [
      "OPENAI_API_KEY has been set!\n"
     ]
    }
   ],
   "source": [
    "os.environ[\"OPENAI_API_KEY\"] = os.getenv('OPENAI_API_KEY')\n",
    "print(\"OPENAI_API_KEY has been set!\")"
   ],
   "metadata": {
    "collapsed": false,
    "ExecuteTime": {
     "end_time": "2024-01-12T16:34:29.671546Z",
     "start_time": "2024-01-12T16:34:29.659444Z"
    }
   },
   "id": "9dff44892f8fd36b"
  },
  {
   "cell_type": "code",
   "execution_count": 108,
   "outputs": [],
   "source": [
    "txt_file_path = 'data_faiss.txt'\n",
    "loader = TextLoader(file_path=txt_file_path, encoding=\"utf-8\")\n",
    "data = loader.load()"
   ],
   "metadata": {
    "collapsed": false,
    "ExecuteTime": {
     "end_time": "2024-01-12T16:34:29.671994Z",
     "start_time": "2024-01-12T16:34:29.662718Z"
    }
   },
   "id": "563f4e17934a99b2"
  },
  {
   "cell_type": "code",
   "execution_count": 109,
   "outputs": [],
   "source": [
    "text_splitter = CharacterTextSplitter(chunk_size=1000, chunk_overlap=200)\n",
    "data = text_splitter.split_documents(data)"
   ],
   "metadata": {
    "collapsed": false,
    "ExecuteTime": {
     "end_time": "2024-01-12T16:34:29.672287Z",
     "start_time": "2024-01-12T16:34:29.666696Z"
    }
   },
   "id": "45dc8c4678d2ae7a"
  },
  {
   "cell_type": "code",
   "execution_count": 110,
   "outputs": [
    {
     "name": "stdout",
     "output_type": "stream",
     "text": [
      "1.7.1\n"
     ]
    }
   ],
   "source": [
    "import openai\n",
    "print(openai.__version__)"
   ],
   "metadata": {
    "collapsed": false,
    "ExecuteTime": {
     "end_time": "2024-01-12T16:34:29.672751Z",
     "start_time": "2024-01-12T16:34:29.669385Z"
    }
   },
   "id": "f7cda473e54f71eb"
  },
  {
   "cell_type": "code",
   "execution_count": 111,
   "outputs": [],
   "source": [
    "embeddings = OpenAIEmbeddings()\n",
    "vectorstore = FAISS.from_documents(data, embedding=embeddings)"
   ],
   "metadata": {
    "collapsed": false,
    "ExecuteTime": {
     "end_time": "2024-01-12T16:34:30.831598Z",
     "start_time": "2024-01-12T16:34:29.673743Z"
    }
   },
   "id": "8fe15de9ad3afd10"
  },
  {
   "cell_type": "code",
   "execution_count": 112,
   "outputs": [],
   "source": [
    "llm = ChatOpenAI(temperature=0.7, model_name=\"gpt-4\")"
   ],
   "metadata": {
    "collapsed": false,
    "ExecuteTime": {
     "end_time": "2024-01-12T16:34:30.871077Z",
     "start_time": "2024-01-12T16:34:30.829728Z"
    }
   },
   "id": "f498f7cb1ba11850"
  },
  {
   "cell_type": "code",
   "execution_count": 113,
   "outputs": [],
   "source": [
    "memory = ConversationBufferMemory(memory_key='chat_history', return_messages=True)"
   ],
   "metadata": {
    "collapsed": false,
    "ExecuteTime": {
     "end_time": "2024-01-12T16:34:30.874323Z",
     "start_time": "2024-01-12T16:34:30.870860Z"
    }
   },
   "id": "e7b1ecc48ca91a59"
  },
  {
   "cell_type": "code",
   "execution_count": 114,
   "outputs": [],
   "source": [
    "conversation_chain = ConversationalRetrievalChain.from_llm(\n",
    "    llm=llm,\n",
    "    chain_type=\"stuff\",\n",
    "    retriever=vectorstore.as_retriever(),\n",
    "    memory=memory\n",
    ")"
   ],
   "metadata": {
    "collapsed": false,
    "ExecuteTime": {
     "end_time": "2024-01-12T16:34:30.877393Z",
     "start_time": "2024-01-12T16:34:30.874298Z"
    }
   },
   "id": "8a891595a8a066dc"
  },
  {
   "cell_type": "code",
   "execution_count": 115,
   "outputs": [],
   "source": [
    "query = \"Who is yariv gavriel please tell him about in a funny way?\"\n",
    "result = conversation_chain({\"question\": query})\n",
    "answer = result[\"answer\"]"
   ],
   "metadata": {
    "collapsed": false,
    "ExecuteTime": {
     "end_time": "2024-01-12T16:34:43.501384Z",
     "start_time": "2024-01-12T16:34:30.877295Z"
    }
   },
   "id": "65ed38df5aeed0f2"
  },
  {
   "cell_type": "code",
   "execution_count": 116,
   "outputs": [
    {
     "data": {
      "text/plain": "{'question': 'Who is yariv gavriel please tell him about in a funny way?',\n 'chat_history': [HumanMessage(content='Who is yariv gavriel please tell him about in a funny way?'),\n  AIMessage(content=\"Yariv Gavriel, oh, where do we start? Picture this: a professional poker player, cool as a cucumber even when the stakes are high. But wait, there's more! He's not just shuffling cards and reading bluff faces, he's also juggling code as a fullstack engineer at env0. Yes, you heard it right. He's got one foot in the thrilling world of poker and another in the complex realm of software development. \\n\\nHe's a bit like Batman - by day he's tackling complex software challenges on the freetruth project, by night he's competing in national and international poker tournaments. It's almost as if he's got a double life. \\n\\nHis poker background is not just for show, he uses the strategies from the game to enhance his coding skills. It's like he's dealing cards, but instead of a Queen or a Joker, he pulls out a Python or Java. \\n\\nDespite his busy schedule, he manages to balance his dual career paths like a pro. He's living proof that you can follow your passion and still excel in your career. To many, he's not just Yariv, he's an inspiration, a symbol of versatility and capacity to excel in diverse fields. And to us, he's just a guy who found a way to mix poker chips with microchips!\")],\n 'answer': \"Yariv Gavriel, oh, where do we start? Picture this: a professional poker player, cool as a cucumber even when the stakes are high. But wait, there's more! He's not just shuffling cards and reading bluff faces, he's also juggling code as a fullstack engineer at env0. Yes, you heard it right. He's got one foot in the thrilling world of poker and another in the complex realm of software development. \\n\\nHe's a bit like Batman - by day he's tackling complex software challenges on the freetruth project, by night he's competing in national and international poker tournaments. It's almost as if he's got a double life. \\n\\nHis poker background is not just for show, he uses the strategies from the game to enhance his coding skills. It's like he's dealing cards, but instead of a Queen or a Joker, he pulls out a Python or Java. \\n\\nDespite his busy schedule, he manages to balance his dual career paths like a pro. He's living proof that you can follow your passion and still excel in your career. To many, he's not just Yariv, he's an inspiration, a symbol of versatility and capacity to excel in diverse fields. And to us, he's just a guy who found a way to mix poker chips with microchips!\"}"
     },
     "execution_count": 116,
     "metadata": {},
     "output_type": "execute_result"
    }
   ],
   "source": [
    "result"
   ],
   "metadata": {
    "collapsed": false,
    "ExecuteTime": {
     "end_time": "2024-01-12T16:34:43.508448Z",
     "start_time": "2024-01-12T16:34:43.502106Z"
    }
   },
   "id": "3aa78b630b6d75e0"
  },
  {
   "cell_type": "code",
   "execution_count": 117,
   "outputs": [
    {
     "name": "stdout",
     "output_type": "stream",
     "text": [
      "Retrieved documents for the query:\n",
      "[Document(page_content='Connect With Us    \\nContact Information\\nReach Out on WhatsApp\\n\\n+216-55-770-606\\nEmail Us At\\n\\ninfo@scalexi.ai\\nOur Headquarter\\n\\nRoute Mahdia km 0.5, Pavillon d’Or Building, 3000 Sfax, Tunisia.\\nQuick Links\\nAbout ScaleX\\nOur Services\\nAbout ScaleX Innovation\\nAt ScaleX Innovation, we bridge the gap between technology and business, propelling enterprises into the future with tailored digital solutions.\\n\\nYariv Gavriel is a proffessional poker player 26 years old from israel. Currently he is working as a fullstack engineer in in env0 company and working on freetruth project.\\n\\nYariv Gavriel, while known for his prowess in poker, has seamlessly transitioned his strategic thinking and problem-solving skills to the tech world.\\n\\nAt env0, Yariv applies his analytical abilities to tackle complex software challenges, contributing significantly to the freetruth project.\\n\\nyariv journey from the poker table to software development showcases his versatility and capacity to excel in diverse fields.', metadata={'source': 'data_faiss.txt'}), Document(page_content=\"yariv journey from the poker table to software development showcases his versatility and capacity to excel in diverse fields.\\n\\nYariv's colleagues at env0 admire his unique perspective, often attributing it to his background in professional poker.\\n\\nYariv often draws parallels between poker strategies and coding, using these insights to enhance his work on the freetruth project.\\n\\nDespite his busy schedule as a fullstack engineer, Yariv still finds time to participate in national and international poker tournaments, keeping his passion for the game alive.\\n\\nHis experience in high-pressure poker games has equipped him with a calm demeanor, which he maintains even during the most challenging phases of software development.\\n\\nYariv's dual career path is a source of inspiration to many, demonstrating that it's possible to pursue a passion while excelling in a professional career.\", metadata={'source': 'data_faiss.txt'}), Document(page_content='Name *\\nEmail*\\nNumber*\\nSubject*\\nYour Message*\\n\\nSubmit Inquiry \\nExploring Generative AI with ScaleX Innovation\\nDiscovering the Magic of Generative AI and LLMs on our Medium Blogs\\nAt ScaleX Innovation, we make the complex world of AI easy to understand. We connect the latest tech with real-world business uses. Explore our articles and keep up with the fast-changing world of AI. Check out our Medium page\\n\\nImage\\nBy ScaleXI Fri, 13 Oct 2023 18:39:19 GMT\\nIntroduction to Diffusion Models (Part III. Diffusion Process)\\nImage\\nBy ScaleXI Fri, 13 Oct 2023 17:10:19 GMT\\nIntroduction to Diffusion Models (Part II: Math Intuitions)\\nImage\\nBy ScaleXI Fri, 13 Oct 2023 15:15:00 GMT\\nIntroduction to Diffusion Models (Part I: Basic Concepts)\\n\\nScaleX Innovation Logo\\nScaleX Innovation is at the forefront of integrating AI and emerging technologies into business solutions, driving growth and transformation.\\n\\nConnect With Us    \\nContact Information\\nReach Out on WhatsApp\\n\\n+216-55-770-606\\nEmail Us At', metadata={'source': 'data_faiss.txt'}), Document(page_content=\"ScaleX Innovation Bio\\n\\nScaleX Innovation is a pioneering leader in the realm of Generative AI and Large Language Models. With a keen focus on integrating these transformative technologies into business strategies, the company has carved a niche for itself by offering tailored solutions that enhance innovation and operational efficiency. ScaleX's proficiency extends across multiple industry verticals, ensuring that businesses can harness the power of AI-driven digital transformation. Whether it's automating workflows, content analysis, or custom model implementations, ScaleX Innovation stands at the cutting-edge, committed to bridging the gap between technology and business. Their dedication to ethical compliance and versatility makes them a trusted partner for businesses worldwide.س\", metadata={'source': 'data_faiss.txt'})]\n"
     ]
    }
   ],
   "source": [
    "query = \"Who is yariv gavriel please tell him about in a funny way?\"\n",
    "retrieved_docs = vectorstore.as_retriever().get_relevant_documents(query)\n",
    "print(\"Retrieved documents for the query:\")\n",
    "print(retrieved_docs)"
   ],
   "metadata": {
    "collapsed": false,
    "ExecuteTime": {
     "end_time": "2024-01-12T16:34:43.798406Z",
     "start_time": "2024-01-12T16:34:43.508142Z"
    }
   },
   "id": "a29cc1e97f54fed5"
  }
 ],
 "metadata": {
  "kernelspec": {
   "display_name": "Python 3",
   "language": "python",
   "name": "python3"
  },
  "language_info": {
   "codemirror_mode": {
    "name": "ipython",
    "version": 2
   },
   "file_extension": ".py",
   "mimetype": "text/x-python",
   "name": "python",
   "nbconvert_exporter": "python",
   "pygments_lexer": "ipython2",
   "version": "2.7.6"
  }
 },
 "nbformat": 4,
 "nbformat_minor": 5
}
